{
  "nbformat": 4,
  "nbformat_minor": 0,
  "metadata": {
    "colab": {
      "provenance": []
    },
    "kernelspec": {
      "name": "python3",
      "display_name": "Python 3"
    },
    "language_info": {
      "name": "python"
    }
  },
  "cells": [
    {
      "cell_type": "code",
      "execution_count": null,
      "metadata": {
        "id": "zLUJGzqBy52v"
      },
      "outputs": [],
      "source": [
        "class Jogador:\n",
        "  def jogar(self):\n",
        "    print('Método jogar foi inicializado')\n",
        "\n",
        "j1 = Jogador()\n",
        "j1.jogar()"
      ]
    },
    {
      "cell_type": "code",
      "source": [
        "class Pessoa:\n",
        "  def __init__(self, nome, idade):\n",
        "    self.nome=nome\n",
        "    self.idade=idade\n",
        "\n",
        "  def apresentar(self):\n",
        "    print(f'Olá, meu nome é {self.nome} e minha idade é {self.idade} anos')\n",
        "\n",
        "p1 = Pessoa('Mário', 30)\n",
        "p1.apresentar()\n",
        "p2 = Pessoa('Sonia', 39)\n",
        "p2.apresentar()"
      ],
      "metadata": {
        "colab": {
          "base_uri": "https://localhost:8080/"
        },
        "id": "0DLT-cOhz8ym",
        "outputId": "90aa8b7c-874c-4198-a37c-b835a6278193"
      },
      "execution_count": 11,
      "outputs": [
        {
          "output_type": "stream",
          "name": "stdout",
          "text": [
            "Olá, meu nome é Mário e minha idade é 30 anos\n",
            "Olá, meu nome é Sonia e minha idade é 39 anos\n"
          ]
        }
      ]
    },
    {
      "cell_type": "code",
      "source": [
        "class Cliente(Pessoa):\n",
        "  quantidadeClientes=0 #static variable\n",
        "  def __init__(self,nome,idade):\n",
        "    super().__init__(nome, idade)\n",
        "    Cliente.quantidadeClientes+=1\n",
        "    self.cadastro=1000+Cliente.quantidadeClientes\n",
        "\n",
        "\n",
        "\n",
        "  def apresentar(self):\n",
        "    super().apresentar()\n",
        "    print(f'e sou o cliente de cadastro: {self.cadastro}')\n",
        "\n",
        "c1=Cliente('Dom', 69)\n",
        "c2=Cliente('Roger', 56)\n",
        "c1.apresentar()\n",
        "c2.apresentar()\n"
      ],
      "metadata": {
        "colab": {
          "base_uri": "https://localhost:8080/"
        },
        "id": "uwnms1Jf47x_",
        "outputId": "db7fca26-3846-41d5-d745-15991206f335"
      },
      "execution_count": 12,
      "outputs": [
        {
          "output_type": "stream",
          "name": "stdout",
          "text": [
            "Olá, meu nome é Dom e minha idade é 69 anos\n",
            "e sou o cliente de cadastro: 1001\n",
            "Olá, meu nome é Roger e minha idade é 56 anos\n",
            "e sou o cliente de cadastro: 1002\n"
          ]
        }
      ]
    },
    {
      "cell_type": "code",
      "source": [
        "class Funcionario(Pessoa):\n",
        "  #pass\n",
        "  def __init__(self, nome, idade, cadastro):\n",
        "    self.nome=nome\n",
        "    self.idade=idade\n",
        "    self.cadastro=cadastro\n",
        "\n",
        "  def apresentar(self):\n",
        "    print(f'Olá, sou o(a) funcionário(a) {self.nome} e minha idade é {self.idade} ')\n",
        "f1 = Funcionario('Rose', 22, 1001)\n",
        "f1.apresentar()"
      ],
      "metadata": {
        "colab": {
          "base_uri": "https://localhost:8080/"
        },
        "id": "271WD5jb2bnG",
        "outputId": "19b23d1a-b97e-4d90-c976-6bd15bb209cf"
      },
      "execution_count": 8,
      "outputs": [
        {
          "output_type": "stream",
          "name": "stdout",
          "text": [
            "Olá, sou o(a) funcionário(a) Rose e minha idade é 22 \n"
          ]
        }
      ]
    },
    {
      "cell_type": "code",
      "source": [
        "class Aluno:\n",
        "  totalAlunos=0\n",
        "  def __init__(self,nome,nota):\n",
        "    Aluno.totalAlunos+=1\n",
        "    self.nome=nome\n",
        "    self.nota=nota\n",
        "    self.ru=1000 +Aluno.totalAlunos\n",
        "\n",
        "  def info(self):\n",
        "    print(f'Nome: {self.nome}; RU:{self.ru}; Nota:{self.nota};')\n",
        "\n",
        "  def getNota(self):\n",
        "    return self.nota\n",
        "\n",
        "a1 = Aluno('Mario', 90)\n",
        "a1.info()\n",
        "\n",
        "class Turma:\n",
        "  def __init__(self, nome, limiteAlunos):\n",
        "    self.nome=nome\n",
        "    self.limiteAlunos=limiteAlunos\n",
        "    self.listaAlunos=[]\n",
        "\n",
        "  def addAluno(self, aluno):\n",
        "    if len(self.listaAlunos) < self.limiteAlunos:\n",
        "      self.listaAlunos.append(aluno)\n",
        "      return True\n",
        "    return False\n",
        "\n",
        "\n",
        "\n",
        "  def mediaTurma(self):\n",
        "    soma=0\n",
        "    for aluno in self.listaAlunos:\n",
        "      soma+=aluno.getNota()\n",
        "    return soma/len(self.listaAlunos)\n",
        "\n",
        "\n",
        "a1 = Aluno('Massa', 90)\n",
        "a2 = Aluno('Hamilton', 80)\n",
        "a3 = Aluno('Felipe', 95)\n",
        "\n",
        "t1 = Turma('Programação', 2)\n",
        "\n",
        "t1.addAluno(a1)\n",
        "t1.addAluno(a2)\n",
        "t1.addAluno(a3)\n",
        "\n",
        "\n",
        "print(t1.mediaTurma())\n",
        "\n",
        "\n",
        "\n"
      ],
      "metadata": {
        "colab": {
          "base_uri": "https://localhost:8080/"
        },
        "id": "NReoCaQM8Cs5",
        "outputId": "f4b98290-69fa-4b65-8d0c-dbdd7015e613"
      },
      "execution_count": 14,
      "outputs": [
        {
          "output_type": "stream",
          "name": "stdout",
          "text": [
            "Nome: Mario; RU:1001; Nota:90;\n",
            "85.0\n"
          ]
        }
      ]
    }
  ]
}